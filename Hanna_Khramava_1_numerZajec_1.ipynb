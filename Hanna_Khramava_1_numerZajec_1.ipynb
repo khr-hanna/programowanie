{
  "nbformat": 4,
  "nbformat_minor": 0,
  "metadata": {
    "colab": {
      "provenance": [],
      "authorship_tag": "ABX9TyMa4tnlgRsY0GWBUmC0J3T3",
      "include_colab_link": true
    },
    "kernelspec": {
      "name": "python3",
      "display_name": "Python 3"
    },
    "language_info": {
      "name": "python"
    }
  },
  "cells": [
    {
      "cell_type": "markdown",
      "metadata": {
        "id": "view-in-github",
        "colab_type": "text"
      },
      "source": [
        "<a href=\"https://colab.research.google.com/github/khr-hanna/programowanie/blob/main/Hanna_Khramava_1_numerZajec_1.ipynb\" target=\"_parent\"><img src=\"https://colab.research.google.com/assets/colab-badge.svg\" alt=\"Open In Colab\"/></a>"
      ]
    },
    {
      "cell_type": "code",
      "execution_count": 11,
      "metadata": {
        "colab": {
          "base_uri": "https://localhost:8080/"
        },
        "id": "46isXznFp2Al",
        "outputId": "86d3fa98-0f5a-4c68-d7a0-7f8c2ca4e54a"
      },
      "outputs": [
        {
          "output_type": "stream",
          "name": "stdout",
          "text": [
            "Lorem ipsum dolor sit amet, consectetur adipiscing elit, sed do eiusmod tempor incididunt ut labore et dolore magna aliqua.\n"
          ]
        }
      ],
      "source": [
        "print(\"Lorem ipsum dolor sit amet, consectetur adipiscing elit,\",\n",
        "      \"sed do eiusmod tempor incididunt ut labore\",\n",
        "      \"et dolore magna aliqua.\")\n"
      ]
    },
    {
      "cell_type": "code",
      "source": [
        "c = 1\n",
        "d = 1.5\n",
        "e = \"text\"\n",
        "f = True"
      ],
      "metadata": {
        "id": "s0Jbz5uLsUvw"
      },
      "execution_count": 12,
      "outputs": []
    },
    {
      "cell_type": "code",
      "source": [
        "print((c,d,e, f))"
      ],
      "metadata": {
        "colab": {
          "base_uri": "https://localhost:8080/"
        },
        "id": "YmSLKf47sVvC",
        "outputId": "d8dd7011-609e-4498-ad51-a92af34c7e36"
      },
      "execution_count": 13,
      "outputs": [
        {
          "output_type": "stream",
          "name": "stdout",
          "text": [
            "(1, 1.5, 'text', True)\n"
          ]
        }
      ]
    },
    {
      "cell_type": "code",
      "source": [
        "x = 18\n",
        "y = 16"
      ],
      "metadata": {
        "id": "DzxSnt35sZX5"
      },
      "execution_count": 14,
      "outputs": []
    },
    {
      "cell_type": "code",
      "source": [
        "print(x + y)\n",
        "print (x - y)\n",
        "print(x*y)\n",
        "print(x / y)\n",
        "print(x ** y)\n",
        "print(x % y)"
      ],
      "metadata": {
        "colab": {
          "base_uri": "https://localhost:8080/"
        },
        "id": "2PR_Zhb5scAs",
        "outputId": "a4e83712-fcbe-4c46-c9f0-c83267dd275f"
      },
      "execution_count": 7,
      "outputs": [
        {
          "output_type": "stream",
          "name": "stdout",
          "text": [
            "34\n",
            "2\n",
            "288\n",
            "1.125\n",
            "121439531096594251776\n",
            "2\n"
          ]
        }
      ]
    },
    {
      "cell_type": "code",
      "source": [
        "a = 32\n",
        "b = 23.5"
      ],
      "metadata": {
        "id": "yDiIPTwrshIj"
      },
      "execution_count": 8,
      "outputs": []
    },
    {
      "cell_type": "code",
      "source": [
        "print(a == b)\n",
        "print(a != b)\n",
        "print(a > b)\n",
        "print(a < b)\n",
        "print(a >= b)\n",
        "print(a <= b)"
      ],
      "metadata": {
        "colab": {
          "base_uri": "https://localhost:8080/"
        },
        "id": "ebJg-bVFsku5",
        "outputId": "7d44b009-ef9d-47a1-d7ab-42f22069deea"
      },
      "execution_count": 9,
      "outputs": [
        {
          "output_type": "stream",
          "name": "stdout",
          "text": [
            "False\n",
            "True\n",
            "True\n",
            "False\n",
            "True\n",
            "False\n"
          ]
        }
      ]
    },
    {
      "cell_type": "code",
      "source": [
        "tekst1 = \"pierwsza zmienna\"\n",
        "tekst2 = \"druga zmienna\"\n",
        "print(\"<-\"+tekst1+\"|\"+tekst2+\"->\")"
      ],
      "metadata": {
        "colab": {
          "base_uri": "https://localhost:8080/"
        },
        "id": "OMaobAQssreG",
        "outputId": "0ef4cc52-5014-4796-975d-8e6897a73cb9"
      },
      "execution_count": 10,
      "outputs": [
        {
          "output_type": "stream",
          "name": "stdout",
          "text": [
            "<-pierwsza zmienna|druga zmienna->\n"
          ]
        }
      ]
    }
  ]
}