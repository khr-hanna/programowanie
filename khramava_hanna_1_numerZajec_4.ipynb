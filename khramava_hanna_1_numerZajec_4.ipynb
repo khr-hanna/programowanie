{
  "nbformat": 4,
  "nbformat_minor": 0,
  "metadata": {
    "colab": {
      "provenance": [],
      "authorship_tag": "ABX9TyOHTcFj0eKhUUNfSXE5MmW/",
      "include_colab_link": true
    },
    "kernelspec": {
      "name": "python3",
      "display_name": "Python 3"
    },
    "language_info": {
      "name": "python"
    }
  },
  "cells": [
    {
      "cell_type": "markdown",
      "metadata": {
        "id": "view-in-github",
        "colab_type": "text"
      },
      "source": [
        "<a href=\"https://colab.research.google.com/github/khr-hanna/programowanie/blob/main/khramava_hanna_1_numerZajec_4.ipynb\" target=\"_parent\"><img src=\"https://colab.research.google.com/assets/colab-badge.svg\" alt=\"Open In Colab\"/></a>"
      ]
    },
    {
      "cell_type": "code",
      "execution_count": 47,
      "metadata": {
        "id": "Mb4wzEsawunL",
        "colab": {
          "base_uri": "https://localhost:8080/"
        },
        "outputId": "8f325f04-045b-4487-acc1-759d8f0b42bd"
      },
      "outputs": [
        {
          "output_type": "stream",
          "name": "stdout",
          "text": [
            "Podaj liczbę rzędów: 9\n",
            "\n",
            "1\n",
            "12\n",
            "123\n",
            "1234\n",
            "12345\n",
            "123456\n",
            "1234567\n",
            "12345678\n"
          ]
        }
      ],
      "source": [
        "n = int(input(\"Podaj liczbę rzędów: \"))\n",
        "\n",
        "for i in range(1, n+1):\n",
        "    if i > 1:\n",
        "        for j in range(1, i):\n",
        "            print(j, end=\"\")\n",
        "    print()\n"
      ]
    },
    {
      "cell_type": "code",
      "source": [
        "for i in range(1, 6):\n",
        "    print(\"*\" * i)\n",
        "for i in range(4, 0, -1):\n",
        "    print(\"*\" * i)\n"
      ],
      "metadata": {
        "id": "iZgnlzat2u1G",
        "colab": {
          "base_uri": "https://localhost:8080/"
        },
        "outputId": "9005d71a-9ee5-4ded-90dc-6be594100db6"
      },
      "execution_count": 48,
      "outputs": [
        {
          "output_type": "stream",
          "name": "stdout",
          "text": [
            "*\n",
            "**\n",
            "***\n",
            "****\n",
            "*****\n",
            "****\n",
            "***\n",
            "**\n",
            "*\n"
          ]
        }
      ]
    },
    {
      "cell_type": "code",
      "source": [
        "lista = [6, 2, 3, 7, 1, 12, 56, 99]\n",
        "\n",
        "for i in range(len(lista)):\n",
        "    if 10 <= lista[i] < 100:\n",
        "        lista[i] = str(lista[i])\n",
        "\n",
        "filtered_list = [int(x) for x in lista if isinstance(x, int)]\n",
        "\n",
        "min_value = min(filtered_list)\n",
        "\n",
        "print(f\"Najmniejsza wartość w liście to: {min_value}\")\n",
        "\n",
        "\n",
        "\n"
      ],
      "metadata": {
        "colab": {
          "base_uri": "https://localhost:8080/"
        },
        "id": "3h_OB9tCVr_e",
        "outputId": "3ecb269a-e43c-4d65-bf49-e59aae93264b"
      },
      "execution_count": 63,
      "outputs": [
        {
          "output_type": "stream",
          "name": "stdout",
          "text": [
            "Najmniejsza wartość w liście to: 1\n"
          ]
        }
      ]
    }
  ]
}