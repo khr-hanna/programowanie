{
  "nbformat": 4,
  "nbformat_minor": 0,
  "metadata": {
    "colab": {
      "provenance": [],
      "authorship_tag": "ABX9TyPBKYVSNl36lw8cDccbkgdL",
      "include_colab_link": true
    },
    "kernelspec": {
      "name": "python3",
      "display_name": "Python 3"
    },
    "language_info": {
      "name": "python"
    }
  },
  "cells": [
    {
      "cell_type": "markdown",
      "metadata": {
        "id": "view-in-github",
        "colab_type": "text"
      },
      "source": [
        "<a href=\"https://colab.research.google.com/github/khr-hanna/programowanie/blob/main/khramava_hanna_1_numerZajec_3.ipynb\" target=\"_parent\"><img src=\"https://colab.research.google.com/assets/colab-badge.svg\" alt=\"Open In Colab\"/></a>"
      ]
    },
    {
      "cell_type": "code",
      "execution_count": 7,
      "metadata": {
        "colab": {
          "base_uri": "https://localhost:8080/"
        },
        "id": "RjAcLmxfUUGP",
        "outputId": "14c8e408-98b5-4a7f-db36-bda9dfed91ac"
      },
      "outputs": [
        {
          "output_type": "stream",
          "name": "stdout",
          "text": [
            "Podaj imię: Hanna\n",
            "Podaj nazwisko: Khramava\n",
            "Podaj hasło: 123\n",
            "Powtórz hasło: 12\n",
            "Hasła nie zgadza się.\n",
            "Wprowadź ponownie hasło: 123\n",
            "Podaj numer telefonu:123-123-123\n",
            "Hanna\n",
            "Khramava\n",
            "123\n",
            "12\n",
            "123123123\n"
          ]
        }
      ],
      "source": [
        "imie = input(\"Podaj imię: \")\n",
        "nazwisko = input(\"Podaj nazwisko: \")\n",
        "hasło1 = input(\"Podaj hasło: \")\n",
        "hasło2 = input(\"Powtórz hasło: \")\n",
        "\n",
        "if hasło1!= hasło2:\n",
        "    print(\"Hasła nie zgadza się.\")\n",
        "    tel=input(\"Wprowadź ponownie hasło: \")\n",
        "\n",
        "tel=input(\"Podaj numer telefonu:\")\n",
        "\n",
        "if '-' in tel or ' ' in tel:\n",
        "    tel = tel.replace('-', '')\n",
        "    tel = tel.replace(' ', '')\n",
        "\n",
        "if len(tel) != 9 or not tel.isdigit():\n",
        "    print(\"Błędny numer telefonu.\")\n",
        "    tel=input(\"Wprowadź ponownie numer telefonu: \")\n",
        "\n",
        "if '-' in tel or ' ' in tel:\n",
        "    tel = tel.replace('-', '')\n",
        "    tel = tel.replace(' ', '')\n",
        "\n",
        "print(imie)\n",
        "print(nazwisko)\n",
        "print(hasło1)\n",
        "print(hasło2)\n",
        "print(tel)"
      ]
    },
    {
      "cell_type": "code",
      "source": [
        "a=int(input(\"Wpisz pierwszą liczbę \"))\n",
        "b=int(input(\"Wpisz drugą liczbę\"))\n",
        "oper= input(\"Wprowadź operację\")\n",
        "\n",
        "if oper=='+':\n",
        "    print(\"Wynik jest równy \",a+b)\n",
        "elif oper=='-':\n",
        "    print(\"Wynik jest równy \",a-b)\n",
        "elif oper=='*':\n",
        "    print(\"Wynik jest równy \",a*b)\n",
        "elif oper=='/':\n",
        "    if b==0:\n",
        "        print(\"Nie można dzielić przez zero\")\n",
        "    else:\n",
        "        print(\"Wynik jest równy \",a/b)"
      ],
      "metadata": {
        "colab": {
          "base_uri": "https://localhost:8080/"
        },
        "id": "NM8xXaS7fBVd",
        "outputId": "a80f08d1-0ac8-40ce-e16b-d6717a3eacf9"
      },
      "execution_count": 25,
      "outputs": [
        {
          "output_type": "stream",
          "name": "stdout",
          "text": [
            "Wpisz pierwszą liczbę 4\n",
            "Wpisz drugą liczbę2\n",
            "Wprowadź operację/\n",
            "Wynik jest równy  2.0\n"
          ]
        }
      ]
    }
  ]
}