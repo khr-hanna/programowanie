{
  "nbformat": 4,
  "nbformat_minor": 0,
  "metadata": {
    "colab": {
      "provenance": [],
      "authorship_tag": "ABX9TyM+u3G48QrbTvxedm4blJnL",
      "include_colab_link": true
    },
    "kernelspec": {
      "name": "python3",
      "display_name": "Python 3"
    },
    "language_info": {
      "name": "python"
    }
  },
  "cells": [
    {
      "cell_type": "markdown",
      "metadata": {
        "id": "view-in-github",
        "colab_type": "text"
      },
      "source": [
        "<a href=\"https://colab.research.google.com/github/khr-hanna/programowanie/blob/main/khramavaa_hanna_1_numerZajec_2.ipynb\" target=\"_parent\"><img src=\"https://colab.research.google.com/assets/colab-badge.svg\" alt=\"Open In Colab\"/></a>"
      ]
    },
    {
      "cell_type": "code",
      "execution_count": null,
      "metadata": {
        "colab": {
          "base_uri": "https://localhost:8080/"
        },
        "id": "QvULUmg_q5ov",
        "outputId": "61dc5ad5-82ed-4487-cd23-2445d7caaa71"
      },
      "outputs": [
        {
          "output_type": "stream",
          "name": "stdout",
          "text": [
            "ęcia z pro\n",
            "ainawomargorp z aicęjaz maibleiwU\n",
            "wlazęa oawi\n"
          ]
        }
      ],
      "source": [
        "ciag_liczbowy = \"Uwielbiam zajęcia z programowania\"\n",
        "print(ciag_liczbowy[13:23])\n",
        "print(ciag_liczbowy[::-1])\n",
        "print(ciag_liczbowy[1::3])"
      ]
    },
    {
      "cell_type": "code",
      "source": [
        "wierszyk1 = \"Czarny to mój ulubiony kolor, niestety, kolor czarny bardzo szybko spiera się z moich ubrań\"\n",
        "print(wierszyk1.istitle())\n",
        "print(wierszyk1.startswith(\"C\"))\n",
        "\n",
        "wierszyk1_lower = wierszyk1.lower()\n",
        "wierszyk1_lower_replaced = wierszyk1_lower.replace(\"czarny\", \"biały\")\n",
        "result = wierszyk1_lower_replaced.capitalize()\n",
        "print(result)"
      ],
      "metadata": {
        "colab": {
          "base_uri": "https://localhost:8080/"
        },
        "id": "HghxRg5nwW0S",
        "outputId": "e91b13b0-91b2-4a9f-b3e2-17268cc90948"
      },
      "execution_count": null,
      "outputs": [
        {
          "output_type": "stream",
          "name": "stdout",
          "text": [
            "False\n",
            "True\n",
            "Biały to mój ulubiony kolor, niestety, kolor biały bardzo szybko spiera się z moich ubrań\n"
          ]
        }
      ]
    }
  ]
}