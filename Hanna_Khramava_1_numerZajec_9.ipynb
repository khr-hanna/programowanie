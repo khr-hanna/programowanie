{
  "nbformat": 4,
  "nbformat_minor": 0,
  "metadata": {
    "colab": {
      "provenance": [],
      "authorship_tag": "ABX9TyPSgKXmIPTNKGOI6YJUCo7u",
      "include_colab_link": true
    },
    "kernelspec": {
      "name": "python3",
      "display_name": "Python 3"
    },
    "language_info": {
      "name": "python"
    }
  },
  "cells": [
    {
      "cell_type": "markdown",
      "metadata": {
        "id": "view-in-github",
        "colab_type": "text"
      },
      "source": [
        "<a href=\"https://colab.research.google.com/github/khr-hanna/programowanie/blob/main/Hanna_Khramava_1_numerZajec_9.ipynb\" target=\"_parent\"><img src=\"https://colab.research.google.com/assets/colab-badge.svg\" alt=\"Open In Colab\"/></a>"
      ]
    },
    {
      "cell_type": "code",
      "execution_count": 42,
      "metadata": {
        "id": "f2u9EI_uzXDo"
      },
      "outputs": [],
      "source": [
        "tekst1 = \"Imię i nazwisko: Hubar, Patryk. Data urodzenia: 7 czerwca 1993. Numer telefonu: 123-456-789\"\n",
        "\n",
        "tekst2 = \"Imię i nazwisko: Mickiewicz, Adam. Data urodzenia: 22 stycznia 1877. Numer telefonu: 789456123\""
      ]
    },
    {
      "cell_type": "code",
      "source": [
        "!pip install regex"
      ],
      "metadata": {
        "colab": {
          "base_uri": "https://localhost:8080/"
        },
        "id": "6w0k6ZtlzwCl",
        "outputId": "4aee843f-1b1a-4198-a58b-1ae150d0492b"
      },
      "execution_count": 36,
      "outputs": [
        {
          "output_type": "stream",
          "name": "stdout",
          "text": [
            "Requirement already satisfied: regex in /usr/local/lib/python3.10/dist-packages (2023.6.3)\n"
          ]
        }
      ]
    },
    {
      "cell_type": "code",
      "source": [
        "import regex as re"
      ],
      "metadata": {
        "id": "LIrsHG4qzkDQ"
      },
      "execution_count": 37,
      "outputs": []
    },
    {
      "cell_type": "code",
      "source": [
        "names1 = re.findall (\"[A-Z][a-z]+\\,\\s[A-Z][a-z]+\\.\", tekst1)\n",
        "date1 = re.findall(\"\\d{1}.[a-z]+.\\d{4}\", tekst1)\n",
        "phone_numbers1 = re.findall(\"\\d{3}-\\d{3}-\\d{3}\", tekst1)"
      ],
      "metadata": {
        "id": "bN6A9u52zlLm"
      },
      "execution_count": 88,
      "outputs": []
    },
    {
      "cell_type": "code",
      "source": [
        "names2 = re.findall (\"[A-Z][a-z]+\\,\\s[A-Z][a-z]+\\.\", tekst2)\n",
        "date2 = re.findall(\"\\d{1}.[a-z]+.\\d{4}\", tekst2)\n",
        "phone_numbers2 = re.findall(\"\\d{3}\\d{3}\\d{3}\", tekst2)"
      ],
      "metadata": {
        "id": "RVR0Srtz9JL_"
      },
      "execution_count": 86,
      "outputs": []
    },
    {
      "cell_type": "code",
      "source": [
        "print(names1, names2)"
      ],
      "metadata": {
        "colab": {
          "base_uri": "https://localhost:8080/"
        },
        "id": "v3DV4O1W3OSJ",
        "outputId": "04bb42fe-7637-4ae8-c96b-dd9d3481336d"
      },
      "execution_count": 84,
      "outputs": [
        {
          "output_type": "stream",
          "name": "stdout",
          "text": [
            "['Hubar, Patryk.'] ['Mickiewicz, Adam.']\n"
          ]
        }
      ]
    },
    {
      "cell_type": "code",
      "source": [
        "print(date1, date2)"
      ],
      "metadata": {
        "colab": {
          "base_uri": "https://localhost:8080/"
        },
        "id": "mL3MNPQw9t2C",
        "outputId": "9e12c871-ce1e-4bc8-e1c4-68b3e9fe706c"
      },
      "execution_count": 85,
      "outputs": [
        {
          "output_type": "stream",
          "name": "stdout",
          "text": [
            "['7 czerwca 1993'] ['2 stycznia 1877']\n"
          ]
        }
      ]
    },
    {
      "cell_type": "code",
      "source": [
        "print(phone_numbers1, phone_numbers2)"
      ],
      "metadata": {
        "colab": {
          "base_uri": "https://localhost:8080/"
        },
        "id": "NXRgBhhN9yoK",
        "outputId": "40aca685-1304-4721-8343-061202e4a04f"
      },
      "execution_count": 89,
      "outputs": [
        {
          "output_type": "stream",
          "name": "stdout",
          "text": [
            "['123-456-789'] ['789456123']\n"
          ]
        }
      ]
    }
  ]
}